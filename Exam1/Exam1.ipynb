{
 "cells": [
  {
   "cell_type": "code",
   "execution_count": 22,
   "id": "c312b4df",
   "metadata": {},
   "outputs": [],
   "source": [
    "import sklearn\n",
    "from sklearn.neighbors import KNeighborsClassifier\n",
    "from sklearn.feature_extraction.text import CountVectorizer\n",
    "import numpy as np\n",
    "import pandas as pd\n",
    "\n",
    "corpus = [\"ai is powerful and useful\",\n",
    "          \"smart and adaptive system\",\n",
    "          \"very smart and useful\",\n",
    "          \"learning AI is very hard\",\n",
    "          \"ai can be biased\",\n",
    "          \"biased and flawed\"]"
   ]
  },
  {
   "cell_type": "code",
   "execution_count": 23,
   "id": "0c088299",
   "metadata": {},
   "outputs": [
    {
     "name": "stdout",
     "output_type": "stream",
     "text": [
      "Vocabulary order: ['adaptive' 'ai' 'and' 'be' 'biased' 'can' 'flawed' 'hard' 'is' 'learning'\n",
      " 'powerful' 'smart' 'system' 'useful' 'very']\n",
      "Feature vector: [0 1 0 0 0 0 0 0 1 0 0 1 1 0 0]\n"
     ]
    }
   ],
   "source": [
    "vectorizer = CountVectorizer()\n",
    "X = vectorizer.fit_transform(corpus)\n",
    "matrix = X.toarray()\n",
    "sentence1 = [\"ai is a smart system\"]\n",
    "\n",
    "X1 = vectorizer.transform(sentence1)\n",
    "\n",
    "print(\"Vocabulary order:\", vectorizer.get_feature_names_out())\n",
    "print(\"Feature vector:\", X1.toarray()[0])"
   ]
  },
  {
   "cell_type": "code",
   "execution_count": 26,
   "id": "b74957d2",
   "metadata": {},
   "outputs": [],
   "source": [
    "vector1 = X1.toarray()\n",
    "sentence2 = ['learning AI is very hard']\n",
    "X2 = vectorizer.transform(sentence2)\n",
    "vector2 = X2.toarray()"
   ]
  },
  {
   "cell_type": "code",
   "execution_count": 32,
   "id": "d8d6e4d0",
   "metadata": {},
   "outputs": [],
   "source": [
    "def euclid_distance(vec1, vec2):\n",
    "    return np.sqrt(np.sum((vec1 - vec2) ** 2))  "
   ]
  },
  {
   "cell_type": "code",
   "execution_count": 29,
   "id": "e4382d9b",
   "metadata": {},
   "outputs": [
    {
     "name": "stdout",
     "output_type": "stream",
     "text": [
      "[2.23606798]\n"
     ]
    }
   ],
   "source": [
    "distance1 = euclid_distance(vector1,vector2)\n",
    "print(distance1)"
   ]
  },
  {
   "cell_type": "code",
   "execution_count": 34,
   "id": "183ea1df",
   "metadata": {},
   "outputs": [
    {
     "name": "stdout",
     "output_type": "stream",
     "text": [
      "- sentence 2: \"smart and adaptive system\" (Distance = 2.0000)\n",
      "- sentence 1: \"ai is powerful and useful\" (Distance = 2.2361)\n",
      "- sentence 4: \"learning AI is very hard\" (Distance = 2.2361)\n"
     ]
    }
   ],
   "source": [
    "distances = []\n",
    "for i in range(matrix.shape[0]):\n",
    "    dist = euclid_distance(vector1, matrix[i, :])\n",
    "    distances.append((i, dist))\n",
    "\n",
    "distances.sort(key=lambda x: x[1])\n",
    "for idx, dist in distances[:3]:\n",
    "    print(f\"- sentence {idx+1}: \\\"{corpus[idx]}\\\" (Distance = {dist:.4f})\")"
   ]
  },
  {
   "cell_type": "markdown",
   "id": "b553c7ca",
   "metadata": {},
   "source": [
    "--"
   ]
  },
  {
   "cell_type": "code",
   "execution_count": 38,
   "id": "34ee1350",
   "metadata": {},
   "outputs": [],
   "source": [
    "df = pd.read_csv('final_dataset.csv')\n",
    "X_train = df[[\"perimeter_mean\", \"area_mean\", \"compactness_mean\"]].values.tolist()\n",
    "labels = df['diagnosis'].values.tolist()"
   ]
  },
  {
   "cell_type": "code",
   "execution_count": 39,
   "id": "eced610a",
   "metadata": {},
   "outputs": [
    {
     "name": "stdout",
     "output_type": "stream",
     "text": [
      "<class 'list'>\n"
     ]
    },
    {
     "data": {
      "text/plain": [
       "[0, 0, 0, 0, 0, 1, 1, 1, 1, 1]"
      ]
     },
     "execution_count": 39,
     "metadata": {},
     "output_type": "execute_result"
    }
   ],
   "source": [
    "y_train = []\n",
    "\n",
    "for label in labels:\n",
    "    if label == 'B':\n",
    "        y_train.append(0)\n",
    "    else:\n",
    "        y_train.append(1)\n",
    "\n",
    "print(type(y_train))\n",
    "y_train"
   ]
  },
  {
   "cell_type": "code",
   "execution_count": 40,
   "id": "979e4544",
   "metadata": {},
   "outputs": [
    {
     "data": {
      "text/plain": [
       "[([0.29, 0.18, 0.12], 0),\n",
       " ([0.11, 0.06, 0.17], 0),\n",
       " ([0.34, 0.21, 0.2], 0),\n",
       " ([0.26, 0.15, 0.09], 0),\n",
       " ([0.22, 0.09, 0.2], 0),\n",
       " ([0.58, 0.42, 0.47], 1),\n",
       " ([0.56, 0.37, 0.77], 1),\n",
       " ([0.48, 0.38, 0.28], 1),\n",
       " ([0.63, 0.49, 0.39], 1),\n",
       " ([0.54, 0.42, 0.43], 1)]"
      ]
     },
     "execution_count": 40,
     "metadata": {},
     "output_type": "execute_result"
    }
   ],
   "source": [
    "train_data = zip(X_train, y_train)\n",
    "train_data = list(train_data)\n",
    "train_data"
   ]
  },
  {
   "cell_type": "code",
   "execution_count": 41,
   "id": "ac3c394d",
   "metadata": {},
   "outputs": [],
   "source": [
    "x = [0.25,0.25,0.25]\n",
    "def manhattan_distance(x1,x2):\n",
    "    return np.sum(np.abs(x1-x2))"
   ]
  },
  {
   "cell_type": "code",
   "execution_count": 48,
   "id": "74ef8e28",
   "metadata": {},
   "outputs": [
    {
     "name": "stdout",
     "output_type": "stream",
     "text": [
      "0.24\n",
      "0.41000000000000003\n",
      "0.18000000000000002\n"
     ]
    }
   ],
   "source": [
    "for i in range(3):\n",
    "    row = np.array(X_train[i])\n",
    "    sum_man = manhattan_distance(x, row)\n",
    "    print(sum_man)"
   ]
  },
  {
   "cell_type": "code",
   "execution_count": 50,
   "id": "7707b718",
   "metadata": {},
   "outputs": [],
   "source": [
    "distances = []\n",
    "for features, label in train_data:\n",
    "    dist = manhattan_distance(x, np.array(features))\n",
    "    distances.append((dist, label))"
   ]
  },
  {
   "cell_type": "code",
   "execution_count": 51,
   "id": "3e0d12d8",
   "metadata": {},
   "outputs": [],
   "source": [
    "distances.sort(key=lambda x: x[0])\n",
    "k = 7\n",
    "nearest_k = distances[:k]\n",
    "\n",
    "class_0 = sum(1 for d, label in nearest_k if label == 0)\n",
    "class_1 = sum(1 for d, label in nearest_k if label == 1)"
   ]
  },
  {
   "cell_type": "code",
   "execution_count": 52,
   "id": "557dfb05",
   "metadata": {},
   "outputs": [
    {
     "name": "stdout",
     "output_type": "stream",
     "text": [
      "5 2\n"
     ]
    }
   ],
   "source": [
    "print(class_0,class_1)"
   ]
  },
  {
   "cell_type": "markdown",
   "id": "b024dc87",
   "metadata": {},
   "source": [
    "--"
   ]
  },
  {
   "cell_type": "code",
   "execution_count": 53,
   "id": "2fbb8050",
   "metadata": {},
   "outputs": [
    {
     "name": "stdout",
     "output_type": "stream",
     "text": [
      "================== Output =================\n"
     ]
    },
    {
     "data": {
      "text/plain": [
       "\"Bộ từ vựng xây dựng từ corpus: {'adaptive': 0, 'ai': 1, 'and': 2, 'be': 3, 'biased': 4, 'can': 5, 'flawed': 6, 'hard': 7, 'is': 8, 'learning': 9, 'powerful': 10, 'smart': 11, 'system': 12, 'useful': 13, 'very': 14}\""
      ]
     },
     "metadata": {},
     "output_type": "display_data"
    },
    {
     "name": "stdout",
     "output_type": "stream",
     "text": [
      "===========================================\n"
     ]
    }
   ],
   "source": [
    "X = vectorizer.fit_transform(corpus)\n",
    "print(\"================== Output =================\")\n",
    "display(f\"Bộ từ vựng xây dựng từ corpus: {dict(sorted(vectorizer.vocabulary_.items()))}\")\n",
    "print(\"===========================================\")"
   ]
  },
  {
   "cell_type": "code",
   "execution_count": 54,
   "id": "b476b37b",
   "metadata": {},
   "outputs": [
    {
     "name": "stdout",
     "output_type": "stream",
     "text": [
      "================== Output =================\n",
      "Vector đại diện cho bộ corpus sau khi vectorization: \n",
      "[[0 1 1 0 0 0 0 0 1 0 1 0 0 1 0]\n",
      " [1 0 1 0 0 0 0 0 0 0 0 1 1 0 0]\n",
      " [0 0 1 0 0 0 0 0 0 0 0 1 0 1 1]\n",
      " [0 1 0 0 0 0 0 1 1 1 0 0 0 0 1]\n",
      " [0 1 0 1 1 1 0 0 0 0 0 0 0 0 0]\n",
      " [0 0 1 0 1 0 1 0 0 0 0 0 0 0 0]]\n",
      "===========================================\n"
     ]
    }
   ],
   "source": [
    "X = X.toarray()\n",
    "print(\"================== Output =================\")\n",
    "print(\"Vector đại diện cho bộ corpus sau khi vectorization: \")\n",
    "print(X)\n",
    "print(\"===========================================\")"
   ]
  },
  {
   "cell_type": "code",
   "execution_count": 55,
   "id": "4c324bc0",
   "metadata": {},
   "outputs": [],
   "source": [
    "C1 = X[0]\n",
    "C2 = X[4]"
   ]
  },
  {
   "cell_type": "code",
   "execution_count": 59,
   "id": "aa6953cc",
   "metadata": {},
   "outputs": [
    {
     "name": "stdout",
     "output_type": "stream",
     "text": [
      "2.6457513110645907\n",
      "2.23606797749979\n",
      "2.449489742783178\n",
      "2.449489742783178\n"
     ]
    }
   ],
   "source": [
    "print(euclid_distance(C1, X[1]))\n",
    "print(euclid_distance(C1, X[2]))\n",
    "print(euclid_distance(C1, X[3]))\n",
    "print(euclid_distance(C1, X[5]))"
   ]
  },
  {
   "cell_type": "code",
   "execution_count": 60,
   "id": "65b7c8a3",
   "metadata": {},
   "outputs": [
    {
     "name": "stdout",
     "output_type": "stream",
     "text": [
      "2.8284271247461903\n",
      "2.8284271247461903\n",
      "2.6457513110645907\n",
      "2.23606797749979\n"
     ]
    }
   ],
   "source": [
    "print(euclid_distance(C2, X[1]))\n",
    "print(euclid_distance(C2, X[2]))\n",
    "print(euclid_distance(C2, X[3]))\n",
    "print(euclid_distance(C2, X[5]))"
   ]
  },
  {
   "cell_type": "code",
   "execution_count": 61,
   "id": "8fd944bb",
   "metadata": {},
   "outputs": [
    {
     "name": "stdout",
     "output_type": "stream",
     "text": [
      "Vector biểu diễn phân cụm:\n",
      "['C1', 'C1', 'C1', 'C1', 'C2', 'C2']\n"
     ]
    }
   ],
   "source": [
    "allocation = []\n",
    "\n",
    "for i in range(len(X)):\n",
    "    dist_to_C1 = euclid_distance(X[i], C1)\n",
    "    dist_to_C2 = euclid_distance(X[i], C2)\n",
    "\n",
    "    if dist_to_C1 < dist_to_C2:\n",
    "        allocation.append(\"C1\")\n",
    "    else:\n",
    "        allocation.append(\"C2\")\n",
    "\n",
    "print(\"Vector biểu diễn phân cụm:\")\n",
    "print(allocation)"
   ]
  },
  {
   "cell_type": "code",
   "execution_count": 62,
   "id": "f1b1303f",
   "metadata": {},
   "outputs": [
    {
     "name": "stdout",
     "output_type": "stream",
     "text": [
      "[0.25 0.5  0.75 0.   0.   0.   0.   0.25 0.5  0.25 0.25 0.5  0.25 0.5\n",
      " 0.5 ] [0.  0.5 0.5 0.5 1.  0.5 0.5 0.  0.  0.  0.  0.  0.  0.  0. ]\n"
     ]
    }
   ],
   "source": [
    "mean_c1 = (X[0]+X[1]+X[2]+X[3]) / 4\n",
    "mean_c2 = (X[4]+X[5]) / 2\n",
    "print(mean_c1, mean_c2)"
   ]
  },
  {
   "cell_type": "code",
   "execution_count": 63,
   "id": "0c316a64",
   "metadata": {},
   "outputs": [
    {
     "name": "stdout",
     "output_type": "stream",
     "text": [
      "Vector biểu diễn phân cụm:\n",
      "['C1', 'C1', 'C1', 'C1', 'C2', 'C2']\n"
     ]
    }
   ],
   "source": [
    "allocation = []\n",
    "\n",
    "for i in range(len(X)):\n",
    "    dist_to_C1 = euclid_distance(X[i], mean_c1)\n",
    "    dist_to_C2 = euclid_distance(X[i], mean_c2)\n",
    "\n",
    "    if dist_to_C1 < dist_to_C2:\n",
    "        allocation.append(\"C1\")\n",
    "    else:\n",
    "        allocation.append(\"C2\")\n",
    "\n",
    "print(\"Vector biểu diễn phân cụm:\")\n",
    "print(allocation)"
   ]
  },
  {
   "cell_type": "code",
   "execution_count": 64,
   "id": "75f6c331",
   "metadata": {},
   "outputs": [
    {
     "name": "stdout",
     "output_type": "stream",
     "text": [
      "1.4577379737113252\n",
      "2.29128784747792\n",
      "----------------------\n",
      "1.620185174601965\n",
      "2.29128784747792\n",
      "----------------------\n",
      "1.2747548783981961\n",
      "2.29128784747792\n",
      "----------------------\n",
      "1.7677669529663689\n",
      "2.5\n",
      "----------------------\n",
      "2.2638462845343543\n",
      "1.118033988749895\n",
      "----------------------\n",
      "1.9039432764659772\n",
      "1.118033988749895\n",
      "----------------------\n"
     ]
    }
   ],
   "source": [
    "for i in range(6):\n",
    "    print(euclid_distance(mean_c1, X[i]))\n",
    "    print(euclid_distance(mean_c2, X[i]))\n",
    "    print('----------------------')"
   ]
  },
  {
   "cell_type": "markdown",
   "id": "f6584d4b",
   "metadata": {},
   "source": [
    "--"
   ]
  },
  {
   "cell_type": "code",
   "execution_count": 70,
   "id": "860a1df3",
   "metadata": {},
   "outputs": [],
   "source": [
    "X_train\n",
    "C1 = np.array(X_train[2])\n",
    "C2 = np.array(X_train[8])"
   ]
  },
  {
   "cell_type": "code",
   "execution_count": 73,
   "id": "e61b51cf",
   "metadata": {},
   "outputs": [
    {
     "name": "stdout",
     "output_type": "stream",
     "text": [
      "2.793110965810563 3.7365721014281092\n"
     ]
    }
   ],
   "source": [
    "sum_1 = 0\n",
    "sum_2 = 0\n",
    "for i in range(10):\n",
    "    if(i != 2):\n",
    "        sum_1 += euclid_distance(C1, np.array(X_train[i]))\n",
    "    if(i != 8):\n",
    "        sum_2 += euclid_distance(C2, np.array(X_train[i]))\n",
    "print(sum_1, sum_2)"
   ]
  },
  {
   "cell_type": "code",
   "execution_count": 75,
   "id": "0c537117",
   "metadata": {},
   "outputs": [
    {
     "name": "stdout",
     "output_type": "stream",
     "text": [
      "Vector biểu diễn phân cụm:\n",
      "[0, 0, 0, 0, 0, 1, 1, 1, 1, 1]\n"
     ]
    }
   ],
   "source": [
    "allocation = []\n",
    "\n",
    "for i in range(len(X_train)):\n",
    "    dist_to_C1 = euclid_distance(np.array(X_train[i]), C1)\n",
    "    dist_to_C2 = euclid_distance(np.array(X_train[i]), C2)\n",
    "\n",
    "    if dist_to_C1 < dist_to_C2:\n",
    "        allocation.append(0)\n",
    "    else:\n",
    "        allocation.append(1)\n",
    "\n",
    "print(\"Vector biểu diễn phân cụm:\")\n",
    "print(allocation)"
   ]
  },
  {
   "cell_type": "code",
   "execution_count": 76,
   "id": "c37ce625",
   "metadata": {},
   "outputs": [
    {
     "name": "stdout",
     "output_type": "stream",
     "text": [
      "0.09899494936611669\n",
      "0.5334791467339656\n",
      "----------------------\n",
      "0.2762245463386627\n",
      "0.7097182539571602\n",
      "----------------------\n",
      "0.0\n",
      "0.44564559910314383\n",
      "----------------------\n",
      "0.14866068747318506\n",
      "0.5852349955359812\n",
      "----------------------\n",
      "0.16970562748477142\n",
      "0.6034898507845845\n",
      "----------------------\n",
      "0.41785164831552346\n",
      "0.1174734012447073\n",
      "----------------------\n",
      "0.6315853069855252\n",
      "0.4045985664828782\n",
      "----------------------\n",
      "0.23430749027719963\n",
      "0.2161018278497431\n",
      "----------------------\n",
      "0.44564559910314383\n",
      "0.0\n",
      "----------------------\n",
      "0.37013511046643494\n",
      "0.1208304597359457\n",
      "----------------------\n"
     ]
    }
   ],
   "source": [
    "for i in range(len(X_train)):\n",
    "    print(euclid_distance(C1, np.array(X_train[i])))\n",
    "    print(euclid_distance(C2, np.array(X_train[i])))\n",
    "    print('----------------------')"
   ]
  },
  {
   "cell_type": "code",
   "execution_count": 78,
   "id": "8bd37d64",
   "metadata": {},
   "outputs": [
    {
     "name": "stdout",
     "output_type": "stream",
     "text": [
      "[0.244 0.138 0.156] [0.558 0.416 0.468]\n"
     ]
    }
   ],
   "source": [
    "X_train = np.array(X_train)\n",
    "mean_c1 = (X_train[0]+X_train[1]+X_train[2]+X_train[3]+X_train[4]) / 5\n",
    "mean_c2 = (X_train[5]+X_train[6]+X_train[7]+X_train[8]+X_train[9]) / 5\n",
    "print(mean_c1, mean_c2)"
   ]
  },
  {
   "cell_type": "code",
   "execution_count": 80,
   "id": "cfa72f6c",
   "metadata": {},
   "outputs": [
    {
     "name": "stdout",
     "output_type": "stream",
     "text": [
      "0.07194442299441979\n",
      "0.49862210139543567\n",
      "----------------------\n",
      "0.155679157243351\n",
      "0.6451697451058908\n",
      "----------------------\n",
      "0.12781236246936367\n",
      "0.40222381829026493\n",
      "----------------------\n",
      "0.06896375859826669\n",
      "0.5499490885527497\n",
      "----------------------\n",
      "0.06939740629158989\n",
      "0.5406884500338436\n",
      "----------------------\n",
      "0.5394589882465579\n",
      "0.02244994432064354\n",
      "----------------------\n",
      "0.7284751196849485\n",
      "0.30548977069617234\n",
      "----------------------\n",
      "0.36004999652826\n",
      "0.20669784711022035\n",
      "----------------------\n",
      "0.5724124387187965\n",
      "0.12939860895697447\n",
      "----------------------\n",
      "0.4921544473028767\n",
      "0.04223742416388583\n",
      "----------------------\n"
     ]
    }
   ],
   "source": [
    "for i in range(len(X_train)):\n",
    "    print(euclid_distance(mean_c1, X_train[i]))\n",
    "    print(euclid_distance(mean_c2, X_train[i]))\n",
    "    print('----------------------')"
   ]
  },
  {
   "cell_type": "code",
   "execution_count": null,
   "id": "ae20dc7f",
   "metadata": {},
   "outputs": [],
   "source": []
  }
 ],
 "metadata": {
  "kernelspec": {
   "display_name": "myenv",
   "language": "python",
   "name": "python3"
  },
  "language_info": {
   "codemirror_mode": {
    "name": "ipython",
    "version": 3
   },
   "file_extension": ".py",
   "mimetype": "text/x-python",
   "name": "python",
   "nbconvert_exporter": "python",
   "pygments_lexer": "ipython3",
   "version": "3.12.1"
  }
 },
 "nbformat": 4,
 "nbformat_minor": 5
}
